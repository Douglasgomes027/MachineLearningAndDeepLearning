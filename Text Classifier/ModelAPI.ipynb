{
 "cells": [
  {
   "cell_type": "code",
   "execution_count": 21,
   "metadata": {
    "collapsed": true
   },
   "outputs": [],
   "source": [
    "from flask import Flask\n",
    "from sklearn.feature_extraction.text import CountVectorizer\n",
    "from sklearn.naive_bayes import MultinomialNB\n",
    "from sklearn.externals import joblib"
   ]
  },
  {
   "cell_type": "code",
   "execution_count": 22,
   "metadata": {
    "collapsed": true
   },
   "outputs": [],
   "source": [
    "app = Flask(__name__)"
   ]
  },
  {
   "cell_type": "code",
   "execution_count": 23,
   "metadata": {
    "collapsed": true
   },
   "outputs": [],
   "source": [
    "@app.route(\"/\")\n",
    "def hello_world():\n",
    "    return \"Hello World! <strong>I am learning Flask</strong>\", 200"
   ]
  },
  {
   "cell_type": "code",
   "execution_count": 24,
   "metadata": {
    "collapsed": true
   },
   "outputs": [],
   "source": [
    "filename = 'model_v1.pkl'"
   ]
  },
  {
   "cell_type": "code",
   "execution_count": 25,
   "metadata": {
    "collapsed": true
   },
   "outputs": [],
   "source": [
    "with open(filename ,'rb') as f:\n",
    "    loaded_model = joblib.load(f)"
   ]
  },
  {
   "cell_type": "code",
   "execution_count": 26,
   "metadata": {
    "collapsed": true
   },
   "outputs": [],
   "source": [
    "vocab_filename = 'model_vocabulary.pkl'"
   ]
  },
  {
   "cell_type": "code",
   "execution_count": 27,
   "metadata": {},
   "outputs": [],
   "source": [
    "with open(vocab_filename, 'rb') as f2:\n",
    "    loaded_vocabulary = joblib.load(f2)"
   ]
  },
  {
   "cell_type": "code",
   "execution_count": 28,
   "metadata": {},
   "outputs": [
    {
     "name": "stdout",
     "output_type": "stream",
     "text": [
      "['ACESSORIO DE INFORMATICA' 'ACESSORIO DE VESTUARIO' 'ACESSORIO DE VIAGEM'\n",
      " 'ACESSORIO E EQUIPAMENTO PARA ESPORTE' 'ACESSORIO ELETRONICO'\n",
      " 'ACESSORIO MUSICAL' 'ACESSORIO PARA BEBE' 'ACESSORIO PARA BELEZA'\n",
      " 'ACESSORIO PARA CALCADO' 'ACESSORIO PARA CELULAR'\n",
      " 'ACESSORIO PARA TELEFONE FIXO' 'ACESSORIO PARA VEICULO'\n",
      " 'ACESSORIOS RELIGIOSOS' 'ACUCAR' 'ADOCANTE' 'ADUBO' 'AGUA' 'AGUARDENTE'\n",
      " 'ALARME' 'ALIMENTO CONDIMENTADO' 'ALIMENTO EM CONSERVA'\n",
      " 'ALIMENTO PARA ANIMAL' 'ALIMENTO PRONTO' 'ALUMINIO' 'APERITIVO' 'ARROZ'\n",
      " 'ARTEFATO DE JOALHERIA E SUAS PARTES' 'ARTIGO PARA DECORACAO' 'AVIAMENTO'\n",
      " 'BIJUTERIA' 'BISCOITO' 'BOMBONIERE' 'BOTA' 'BRINQUEDO' 'CABELO' 'CAFE'\n",
      " 'CAJUINA' 'CAMA MESA E BANHO' 'CAMERA E FILMADORA' 'CARNE BOVINA'\n",
      " 'CARNE DE AVE ' 'CARNE DE CRUSTACEO' 'CARNE DE PEIXE' 'CARNE OVINA'\n",
      " 'CARNE SUINA' 'CARTOES' 'CASCA DE FRUTA' 'CELULAR' 'CEREAL' 'CERVEJA'\n",
      " 'CEVADA' 'CHA' 'CHAMPAGNE' 'CHAPA DE MADEIRA' 'CHINELO' 'COMBUSTIVEL'\n",
      " 'CORPO' 'DOCE E SOBREMESA' 'ELETRODOMESTICO' 'ELETRONICO'\n",
      " 'ELETROPORTATEIS' 'EMBALAGEM PARA PRESENTE' 'ENERGETICO'\n",
      " 'EQUIPAMENTO HOSPITALAR' 'EROTICO' 'ESPECIARIA' 'ESPUMANTE'\n",
      " 'ESTRUTURA FLUTUANTE' 'EXCLUIDOS' 'FAIXAS' 'FARELO' 'FARINHA E AMIDO'\n",
      " 'FAX E MINI CENTRAL' 'FEIJAO' 'FERRAGEM' 'FERTILIZANTE' 'FOLHETO'\n",
      " 'FORMAS DE TABACO' 'FRUTA' 'GAME' 'GENERICO' 'GRANITO' 'HIDROTONICO'\n",
      " 'INFORMATICA' 'INSTRUMENTO DE CORDA' 'INSTRUMENTO DE PERCUSSAO'\n",
      " 'ISOTONICO' 'JORNAL' 'LABIOS' 'LACTICINIO' 'LEITE' 'LICOR' 'LIVRO'\n",
      " 'MACARRAO' 'MAOS' 'MAQUIAGEM' 'MAQUINA E EQUIPAMENTO' 'MARMORE'\n",
      " 'MASSA PRONTA' 'MATERIAL ELETRICO' 'MATERIAL PARA AGROPECUARIA'\n",
      " 'MATERIAL PARA ARTESANATO' 'MATERIAL PARA CONSTRUCAO'\n",
      " 'MATERIAL PARA ESCRITORIO E ESCOLAR' 'MEDICAMENTO NAO CLASSIFICADO' 'MEL'\n",
      " 'MISTURA PRONTA' 'MODA PRAIA' 'ODONTOLOGICO' 'OLEO' 'OLHOS' 'ORTOPEDIA'\n",
      " 'OUTROS MEDICAMENTOS' 'OVO DE AVE' 'PAO' 'PAPEL'\n",
      " 'PARTE E ACESSORIO DE RELOJOARIA' 'PARTE E PECA PARA VEICULO'\n",
      " 'PECA INTIMA' 'PECAS E ACESSORIOS PARA MOVEIS' 'PEDRA CARIRI' 'PERFUMARIA'\n",
      " 'PES' 'PREPARACAO DE CARNE' 'PREPARACAO DE FRUTA' 'PRODUTO DE CONFEITARIA'\n",
      " 'PRODUTO DE FLORICULTURA' 'PRODUTO DE HIGIENE' 'PRODUTO DE LIMPEZA'\n",
      " 'PRODUTO DESCARTAVEL' 'PRODUTO FARMACEUTICO' 'PRODUTO HOSPITALAR'\n",
      " 'PRODUTO OTICO' 'PRODUTO PARA ANIMAL' 'PRODUTO PARA CONSERVACAO'\n",
      " 'PRODUTO PARA FESTA' 'PRODUTO PARA ORGANIZACAO' 'PRODUTO PARA SEGURANCA'\n",
      " 'PRODUTO PARA SOLDA' 'PRODUTO VEGETAL' 'PROTEINA DE SOJA' 'REFERENCIA'\n",
      " 'REFRIGERANTE' 'RELOGIO' 'REVISTA' 'ROSTO' 'RUM' 'SANDALIA' 'SAPATILHA'\n",
      " 'SAPATO' 'SAQUE' 'SIMILAR' 'SUCATA' 'SUCO' 'TELEFONE FIXO' 'TEMPERO'\n",
      " 'TENIS' 'TEQUILA' 'TINTA PARA TECIDO' 'TIPO DE FERRAMENTA'\n",
      " 'TIPO DE FOSFORO' 'TIPO DE GRAO' 'TIPO DE MADEIRA' 'TIPO DE MOVEIS'\n",
      " 'TIPO DE PESTICIDA' 'TIPO DE PLANTA' 'TIPO DE PRODUTO' 'TIPO DE SEMENTE'\n",
      " 'TIPO DE TABACO' 'TIPO DE TECIDO' 'TIPO DE VELA' 'TIPO DE VIDRO'\n",
      " 'TOUCINHO E GORDURA SUINA E DE AVE' 'UNHAS' 'UTENSILIO DE LIMPEZA'\n",
      " 'UTENSILIO PARA BEBE' 'UTENSILIO PARA O LAR' 'VEICULO TERRESTRE'\n",
      " 'VERDURA E LEGUME' 'VERMOUTH' 'VESTUARIO FEMININO' 'VESTUARIO INFANTIL'\n",
      " 'VESTUARIO MASCULINO' 'VESTUARIO PARA BEBE' 'VINHO' 'VODKA' 'WHISKY']\n"
     ]
    }
   ],
   "source": [
    "print(loaded_model.classes_)"
   ]
  },
  {
   "cell_type": "code",
   "execution_count": 29,
   "metadata": {
    "collapsed": true
   },
   "outputs": [],
   "source": [
    "vectorizer_train = CountVectorizer(vocabulary=loaded_vocabulary)"
   ]
  },
  {
   "cell_type": "code",
   "execution_count": 30,
   "metadata": {},
   "outputs": [
    {
     "data": {
      "text/plain": [
       "array(['ACESSORIO DE INFORMATICA', 'UTENSILIO PARA BEBE', 'CARNE BOVINA',\n",
       "       'PRODUTO DE LIMPEZA'],\n",
       "      dtype='<U36')"
      ]
     },
     "execution_count": 30,
     "metadata": {},
     "output_type": "execute_result"
    }
   ],
   "source": [
    "teste_predict=['EPSON MAGENTO','LILLO BICO','BOV AMERICANA KG','KING 100ML JASMIM']\n",
    "teste_predict_vect = vectorizer_train.transform(teste_predict) \n",
    "loaded_model.predict(teste_predict_vect)"
   ]
  },
  {
   "cell_type": "code",
   "execution_count": null,
   "metadata": {},
   "outputs": [
    {
     "name": "stderr",
     "output_type": "stream",
     "text": [
      " * Running on http://127.0.0.1:5000/ (Press CTRL+C to quit)\n"
     ]
    }
   ],
   "source": [
    "app.run()"
   ]
  },
  {
   "cell_type": "code",
   "execution_count": null,
   "metadata": {
    "collapsed": true
   },
   "outputs": [],
   "source": []
  }
 ],
 "metadata": {
  "kernelspec": {
   "display_name": "Python 3",
   "language": "python",
   "name": "python3"
  },
  "language_info": {
   "codemirror_mode": {
    "name": "ipython",
    "version": 3
   },
   "file_extension": ".py",
   "mimetype": "text/x-python",
   "name": "python",
   "nbconvert_exporter": "python",
   "pygments_lexer": "ipython3",
   "version": "3.5.4"
  }
 },
 "nbformat": 4,
 "nbformat_minor": 2
}
