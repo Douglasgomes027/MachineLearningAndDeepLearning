{
 "cells": [
  {
   "cell_type": "code",
   "execution_count": 1,
   "metadata": {
    "collapsed": true
   },
   "outputs": [],
   "source": [
    "import numpy as np\n",
    "import pandas as pd\n",
    "import re\n",
    "\n",
    "from sklearn.feature_extraction.text import CountVectorizer\n",
    "from sklearn.naive_bayes import MultinomialNB\n",
    "from sklearn.metrics import classification_report\n",
    "from sklearn.model_selection import train_test_split"
   ]
  },
  {
   "cell_type": "code",
   "execution_count": 2,
   "metadata": {
    "collapsed": true
   },
   "outputs": [],
   "source": [
    "def file_parser(file):\n",
    "    for line in file:\n",
    "        line = re.sub(\"\\n\", \"\", line)\n",
    "        yield re.split(r',', line, 1)\n",
    "\n",
    "parser = file_parser(open('resultado_genero_descricao.csv', encoding=\"ISO-8859-1\"))\n",
    "columns = next(parser)\n",
    "\n",
    "\n",
    "df = pd.DataFrame(parser, columns=columns)\n",
    "df_test=df"
   ]
  },
  {
   "cell_type": "code",
   "execution_count": 3,
   "metadata": {
    "collapsed": false
   },
   "outputs": [],
   "source": [
    "y = df_test['GENERO']\n",
    "X = df_test['DESCRICAO'].tolist()\n",
    "X_train,X_test,y_train,y_test=train_test_split(X,y,test_size=0.1)"
   ]
  },
  {
   "cell_type": "code",
   "execution_count": 4,
   "metadata": {
    "collapsed": false
   },
   "outputs": [],
   "source": [
    "vectorizer_train = CountVectorizer()\n",
    "X_train = vectorizer_train.fit_transform(X_train)"
   ]
  },
  {
   "cell_type": "code",
   "execution_count": 5,
   "metadata": {
    "collapsed": false
   },
   "outputs": [],
   "source": [
    "vectorizer_test = CountVectorizer(vocabulary=vectorizer_train.vocabulary_)\n",
    "X_test = vectorizer_test.transform(X_test)"
   ]
  },
  {
   "cell_type": "code",
   "execution_count": 6,
   "metadata": {
    "collapsed": false
   },
   "outputs": [
    {
     "name": "stdout",
     "output_type": "stream",
     "text": [
      "                                      precision    recall  f1-score   support\n",
      "\n",
      "            ACESSORIO DE INFORMATICA       0.90      0.83      0.86        23\n",
      "              ACESSORIO DE VESTUARIO       1.00      0.70      0.82        10\n",
      "                 ACESSORIO DE VIAGEM       0.00      0.00      0.00         1\n",
      "ACESSORIO E EQUIPAMENTO PARA ESPORTE       1.00      0.12      0.22         8\n",
      "                ACESSORIO ELETRONICO       1.00      0.14      0.25         7\n",
      "                   ACESSORIO MUSICAL       0.00      0.00      0.00         3\n",
      "                 ACESSORIO PARA BEBE       1.00      0.33      0.50         6\n",
      "               ACESSORIO PARA BELEZA       1.00      0.74      0.85        35\n",
      "              ACESSORIO PARA CELULAR       0.00      0.00      0.00         2\n",
      "              ACESSORIO PARA VEICULO       0.80      0.29      0.42        14\n",
      "                              ACUCAR       1.00      0.82      0.90        17\n",
      "                            ADOCANTE       1.00      0.86      0.92         7\n",
      "                                AGUA       1.00      0.89      0.94        66\n",
      "                          AGUARDENTE       1.00      0.96      0.98        23\n",
      "               ALIMENTO CONDIMENTADO       0.95      0.96      0.95       112\n",
      "                ALIMENTO EM CONSERVA       0.96      0.83      0.89        30\n",
      "                ALIMENTO PARA ANIMAL       0.97      0.81      0.89        43\n",
      "                     ALIMENTO PRONTO       1.00      0.41      0.58        27\n",
      "                           APERITIVO       1.00      0.17      0.29         6\n",
      "                               ARROZ       0.94      1.00      0.97        31\n",
      "               ARTIGO PARA DECORACAO       0.00      0.00      0.00         2\n",
      "                           AVIAMENTO       1.00      0.33      0.50         9\n",
      "                           BIJUTERIA       0.00      0.00      0.00         3\n",
      "                            BISCOITO       0.90      0.99      0.95       122\n",
      "                          BOMBONIERE       0.91      0.94      0.92       143\n",
      "                                BOTA       1.00      0.14      0.25         7\n",
      "                           BRINQUEDO       1.00      0.12      0.22         8\n",
      "                              CABELO       0.87      0.98      0.92       440\n",
      "                                CAFE       0.98      0.91      0.95        47\n",
      "                   CAMA MESA E BANHO       0.00      0.00      0.00         6\n",
      "                  CAMERA E FILMADORA       0.00      0.00      0.00         1\n",
      "                        CARNE BOVINA       0.83      1.00      0.91        69\n",
      "                       CARNE DE AVE        0.97      0.94      0.95        31\n",
      "                  CARNE DE CRUSTACEO       0.00      0.00      0.00         1\n",
      "                      CARNE DE PEIXE       1.00      0.87      0.93        15\n",
      "                         CARNE OVINA       0.00      0.00      0.00         1\n",
      "                         CARNE SUINA       1.00      0.69      0.82        13\n",
      "                             CELULAR       1.00      0.71      0.83         7\n",
      "                              CEREAL       0.92      0.74      0.82        31\n",
      "                             CERVEJA       0.95      0.98      0.96       107\n",
      "                              CEVADA       0.00      0.00      0.00         1\n",
      "                                 CHA       1.00      0.83      0.91        18\n",
      "                           CHAMPAGNE       0.00      0.00      0.00         1\n",
      "                             CHINELO       0.76      1.00      0.86        38\n",
      "                         COMBUSTIVEL       1.00      0.86      0.92        14\n",
      "                               CORPO       0.80      0.96      0.88       328\n",
      "                    DOCE E SOBREMESA       1.00      0.64      0.78        59\n",
      "                     ELETRODOMESTICO       0.97      1.00      0.98        28\n",
      "                          ELETRONICO       1.00      0.71      0.83         7\n",
      "                     ELETROPORTATEIS       0.93      0.84      0.88        31\n",
      "                          ENERGETICO       1.00      0.94      0.97        18\n",
      "              EQUIPAMENTO HOSPITALAR       1.00      1.00      1.00         1\n",
      "                          ESPECIARIA       1.00      0.69      0.82        26\n",
      "                           ESPUMANTE       0.90      0.90      0.90        10\n",
      "                 ESTRUTURA FLUTUANTE       0.00      0.00      0.00         1\n",
      "                              FARELO       0.00      0.00      0.00         1\n",
      "                     FARINHA E AMIDO       0.79      0.96      0.87        74\n",
      "                              FEIJAO       1.00      0.95      0.97        20\n",
      "                            FERRAGEM       1.00      0.75      0.86        24\n",
      "                        FERTILIZANTE       0.00      0.00      0.00         1\n",
      "                    FORMAS DE TABACO       1.00      0.50      0.67         4\n",
      "                               FRUTA       0.93      0.85      0.89        81\n",
      "                            GENERICO       0.91      0.93      0.92       373\n",
      "                             GRANITO       0.00      0.00      0.00         2\n",
      "                         HIDROTONICO       0.00      0.00      0.00         3\n",
      "                         INFORMATICA       0.93      0.67      0.78        21\n",
      "            INSTRUMENTO DE PERCUSSAO       0.00      0.00      0.00         1\n",
      "                           ISOTONICO       0.00      0.00      0.00         4\n",
      "                              JORNAL       0.00      0.00      0.00         1\n",
      "                          LACTICINIO       0.77      0.95      0.85       238\n",
      "                               LEITE       0.92      0.97      0.95       113\n",
      "                               LICOR       1.00      1.00      1.00         4\n",
      "                               LIVRO       1.00      0.69      0.81        32\n",
      "                            MACARRAO       0.93      0.96      0.95        45\n",
      "                                MAOS       0.00      0.00      0.00         2\n",
      "                           MAQUIAGEM       0.94      0.92      0.93        37\n",
      "               MAQUINA E EQUIPAMENTO       0.00      0.00      0.00         8\n",
      "                             MARMORE       1.00      0.40      0.57         5\n",
      "                        MASSA PRONTA       0.00      0.00      0.00         5\n",
      "                   MATERIAL ELETRICO       0.93      0.76      0.84        71\n",
      "          MATERIAL PARA AGROPECUARIA       0.00      0.00      0.00         3\n",
      "            MATERIAL PARA ARTESANATO       1.00      0.58      0.74        12\n",
      "            MATERIAL PARA CONSTRUCAO       0.73      0.95      0.82       323\n",
      "  MATERIAL PARA ESCRITORIO E ESCOLAR       0.80      1.00      0.89       164\n",
      "        MEDICAMENTO NAO CLASSIFICADO       1.00      0.06      0.12        97\n",
      "                                 MEL       0.00      0.00      0.00         2\n",
      "                      MISTURA PRONTA       0.98      0.80      0.88        51\n",
      "                          MODA PRAIA       0.00      0.00      0.00         1\n",
      "                        ODONTOLOGICO       0.00      0.00      0.00         2\n",
      "                                OLEO       1.00      0.92      0.96        25\n",
      "                               OLHOS       0.00      0.00      0.00         4\n",
      "                           ORTOPEDIA       0.00      0.00      0.00         1\n",
      "                 OUTROS MEDICAMENTOS       0.88      0.32      0.47        44\n",
      "                          OVO DE AVE       1.00      0.60      0.75         5\n",
      "                                 PAO       1.00      0.83      0.91        42\n",
      "                               PAPEL       1.00      0.89      0.94        19\n",
      "           PARTE E PECA PARA VEICULO       0.87      0.93      0.90        91\n",
      "                         PECA INTIMA       0.82      0.99      0.89        90\n",
      "      PECAS E ACESSORIOS PARA MOVEIS       0.00      0.00      0.00         2\n",
      "                        PEDRA CARIRI       0.00      0.00      0.00         1\n",
      "                          PERFUMARIA       0.97      0.64      0.77        50\n",
      "                                 PES       0.00      0.00      0.00         1\n",
      "                 PREPARACAO DE CARNE       0.94      0.96      0.95        52\n",
      "                 PREPARACAO DE FRUTA       1.00      0.85      0.92        40\n",
      "              PRODUTO DE CONFEITARIA       1.00      0.26      0.42        19\n",
      "             PRODUTO DE FLORICULTURA       0.00      0.00      0.00         2\n",
      "                  PRODUTO DE HIGIENE       0.93      0.96      0.94       201\n",
      "                  PRODUTO DE LIMPEZA       0.82      0.98      0.89       351\n",
      "                 PRODUTO DESCARTAVEL       0.91      0.89      0.90        56\n",
      "                PRODUTO FARMACEUTICO       0.81      0.88      0.85       325\n",
      "                  PRODUTO HOSPITALAR       0.89      0.38      0.53        21\n",
      "                       PRODUTO OTICO       1.00      0.07      0.13        14\n",
      "                 PRODUTO PARA ANIMAL       0.86      0.19      0.31        32\n",
      "            PRODUTO PARA CONSERVACAO       0.92      0.44      0.60        27\n",
      "                  PRODUTO PARA FESTA       1.00      0.50      0.67         6\n",
      "            PRODUTO PARA ORGANIZACAO       0.00      0.00      0.00         2\n",
      "              PRODUTO PARA SEGURANCA       0.00      0.00      0.00         3\n",
      "                  PRODUTO PARA SOLDA       0.00      0.00      0.00         3\n",
      "                    PROTEINA DE SOJA       0.00      0.00      0.00         1\n",
      "                          REFERENCIA       0.92      0.94      0.93       565\n",
      "                        REFRIGERANTE       0.90      0.99      0.94       193\n",
      "                             RELOGIO       0.00      0.00      0.00         2\n",
      "                             REVISTA       0.00      0.00      0.00         1\n",
      "                               ROSTO       0.94      0.44      0.60        36\n",
      "                                 RUM       1.00      0.67      0.80         3\n",
      "                            SANDALIA       1.00      0.21      0.35        14\n",
      "                           SAPATILHA       1.00      0.20      0.33         5\n",
      "                              SAPATO       0.40      0.50      0.44         8\n",
      "                             SIMILAR       0.80      0.94      0.86       830\n",
      "                              SUCATA       1.00      0.20      0.33         5\n",
      "                                SUCO       0.94      0.95      0.95        83\n",
      "                       TELEFONE FIXO       0.00      0.00      0.00         6\n",
      "                             TEMPERO       0.94      0.94      0.94        82\n",
      "                               TENIS       0.90      1.00      0.95        27\n",
      "                             TEQUILA       0.00      0.00      0.00         1\n",
      "                   TINTA PARA TECIDO       1.00      0.60      0.75         5\n",
      "                  TIPO DE FERRAMENTA       0.88      0.76      0.81        66\n",
      "                     TIPO DE FOSFORO       1.00      0.14      0.25         7\n",
      "                        TIPO DE GRAO       1.00      0.68      0.81        25\n",
      "                     TIPO DE MADEIRA       1.00      0.60      0.75         5\n",
      "                      TIPO DE MOVEIS       0.96      0.69      0.80        32\n",
      "                   TIPO DE PESTICIDA       0.00      0.00      0.00         3\n",
      "                      TIPO DE PLANTA       0.00      0.00      0.00         2\n",
      "                     TIPO DE PRODUTO       0.71      0.33      0.45        30\n",
      "                     TIPO DE SEMENTE       0.00      0.00      0.00         3\n",
      "                      TIPO DE TABACO       0.00      0.00      0.00         5\n",
      "                      TIPO DE TECIDO       1.00      1.00      1.00         1\n",
      "                        TIPO DE VELA       1.00      0.60      0.75         5\n",
      "                       TIPO DE VIDRO       0.00      0.00      0.00         1\n",
      "                               UNHAS       0.96      0.82      0.88        55\n",
      "                UTENSILIO DE LIMPEZA       0.96      0.89      0.92        79\n",
      "                 UTENSILIO PARA BEBE       1.00      0.79      0.88        14\n",
      "                UTENSILIO PARA O LAR       0.84      0.59      0.69        78\n",
      "                   VEICULO TERRESTRE       1.00      0.43      0.60         7\n",
      "                    VERDURA E LEGUME       0.98      0.83      0.90        54\n",
      "                            VERMOUTH       0.00      0.00      0.00         1\n",
      "                  VESTUARIO FEMININO       0.62      0.56      0.59        18\n",
      "                  VESTUARIO INFANTIL       0.00      0.00      0.00         3\n",
      "                 VESTUARIO MASCULINO       1.00      0.18      0.31        11\n",
      "                 VESTUARIO PARA BEBE       1.00      0.17      0.29         6\n",
      "                               VINHO       0.84      1.00      0.92        27\n",
      "                               VODKA       1.00      0.83      0.91         6\n",
      "                              WHISKY       1.00      0.92      0.96        13\n",
      "\n",
      "                         avg / total       0.87      0.87      0.85      7893\n",
      "\n"
     ]
    },
    {
     "name": "stderr",
     "output_type": "stream",
     "text": [
      "/home/douglas/anaconda3/lib/python3.5/site-packages/sklearn/metrics/classification.py:1135: UndefinedMetricWarning: Precision and F-score are ill-defined and being set to 0.0 in labels with no predicted samples.\n",
      "  'precision', 'predicted', average, warn_for)\n"
     ]
    }
   ],
   "source": [
    "model = MultinomialNB()\n",
    "model.fit(X_train,y_train)\n",
    "y_pred = model.predict(X_test)\n",
    "print(classification_report(y_test,y_pred))"
   ]
  },
  {
   "cell_type": "code",
   "execution_count": 11,
   "metadata": {
    "collapsed": false
   },
   "outputs": [
    {
     "data": {
      "text/plain": [
       "array(['ACESSORIO DE INFORMATICA', 'UTENSILIO PARA BEBE', 'CARNE BOVINA',\n",
       "       'PRODUTO DE LIMPEZA'],\n",
       "      dtype='<U36')"
      ]
     },
     "execution_count": 11,
     "metadata": {},
     "output_type": "execute_result"
    }
   ],
   "source": [
    "teste_predict=['EPSON MAGENTO','LILLO BICO','BOV AMERICANA KG','KING 100ML JASMIM']\n",
    "teste_predict_vect = vectorizer_train.transform(teste_predict) \n",
    "model.predict(teste_predict_vect)"
   ]
  },
  {
   "cell_type": "code",
   "execution_count": null,
   "metadata": {
    "collapsed": true
   },
   "outputs": [],
   "source": []
  }
 ],
 "metadata": {
  "anaconda-cloud": {},
  "kernelspec": {
   "display_name": "Python [default]",
   "language": "python",
   "name": "python3"
  },
  "language_info": {
   "codemirror_mode": {
    "name": "ipython",
    "version": 3
   },
   "file_extension": ".py",
   "mimetype": "text/x-python",
   "name": "python",
   "nbconvert_exporter": "python",
   "pygments_lexer": "ipython3",
   "version": "3.5.2"
  }
 },
 "nbformat": 4,
 "nbformat_minor": 2
}
