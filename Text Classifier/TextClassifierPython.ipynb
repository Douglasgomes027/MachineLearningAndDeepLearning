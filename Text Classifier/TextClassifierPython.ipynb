{
 "cells": [
  {
   "cell_type": "code",
   "execution_count": 17,
   "metadata": {
    "collapsed": true
   },
   "outputs": [],
   "source": [
    "import numpy as np\n",
    "import pandas as pd\n",
    "import re\n",
    "\n",
    "from sklearn.feature_extraction.text import CountVectorizer\n",
    "from sklearn.naive_bayes import MultinomialNB\n",
    "from sklearn.metrics import classification_report\n",
    "from sklearn.model_selection import train_test_split"
   ]
  },
  {
   "cell_type": "code",
   "execution_count": 18,
   "metadata": {
    "collapsed": true
   },
   "outputs": [],
   "source": [
    "def file_parser(file):\n",
    "    for line in file:\n",
    "        line = re.sub(\"\\n\", \"\", line)\n",
    "        yield re.split(r',', line, 1)\n",
    "\n",
    "parser = file_parser(open('resultado_genero_descricao.csv', encoding=\"ISO-8859-1\"))\n",
    "columns = next(parser)\n",
    "\n",
    "\n",
    "df = pd.DataFrame(parser, columns=columns)\n",
    "df_test=df"
   ]
  },
  {
   "cell_type": "code",
   "execution_count": 19,
   "metadata": {
    "collapsed": true
   },
   "outputs": [],
   "source": [
    "y = df_test['GENERO']\n",
    "X = df_test['DESCRICAO'].tolist()\n",
    "X_train,X_test,y_train,y_test=train_test_split(X,y,test_size=0.1)"
   ]
  },
  {
   "cell_type": "code",
   "execution_count": 20,
   "metadata": {
    "collapsed": true
   },
   "outputs": [],
   "source": [
    "vectorizer_train = CountVectorizer()\n",
    "X_train = vectorizer_train.fit_transform(X_train)"
   ]
  },
  {
   "cell_type": "code",
   "execution_count": 21,
   "metadata": {
    "collapsed": true
   },
   "outputs": [],
   "source": [
    "vectorizer_test = CountVectorizer(vocabulary=vectorizer_train.vocabulary_)\n",
    "X_test = vectorizer_test.transform(X_test)"
   ]
  },
  {
   "cell_type": "code",
   "execution_count": 22,
   "metadata": {},
   "outputs": [
    {
     "name": "stdout",
     "output_type": "stream",
     "text": [
      "                                      precision    recall  f1-score   support\n",
      "\n",
      "            ACESSORIO DE INFORMATICA       0.94      0.68      0.79        25\n",
      "              ACESSORIO DE VESTUARIO       1.00      0.86      0.92        14\n",
      "                 ACESSORIO DE VIAGEM       0.00      0.00      0.00         1\n",
      "ACESSORIO E EQUIPAMENTO PARA ESPORTE       1.00      0.38      0.55         8\n",
      "                ACESSORIO ELETRONICO       1.00      0.08      0.14        13\n",
      "                   ACESSORIO MUSICAL       1.00      0.50      0.67         2\n",
      "                 ACESSORIO PARA BEBE       0.00      0.00      0.00         2\n",
      "               ACESSORIO PARA BELEZA       0.90      0.82      0.86        33\n",
      "              ACESSORIO PARA CELULAR       0.00      0.00      0.00         1\n",
      "        ACESSORIO PARA TELEFONE FIXO       0.00      0.00      0.00         1\n",
      "              ACESSORIO PARA VEICULO       1.00      0.18      0.31        22\n",
      "               ACESSORIOS RELIGIOSOS       0.00      0.00      0.00         1\n",
      "                              ACUCAR       1.00      0.79      0.88        28\n",
      "                            ADOCANTE       1.00      0.62      0.77         8\n",
      "                                AGUA       0.97      0.96      0.96        68\n",
      "                          AGUARDENTE       1.00      1.00      1.00        22\n",
      "                              ALARME       0.00      0.00      0.00         2\n",
      "               ALIMENTO CONDIMENTADO       0.94      0.98      0.96       125\n",
      "                ALIMENTO EM CONSERVA       0.96      0.96      0.96        26\n",
      "                ALIMENTO PARA ANIMAL       1.00      0.80      0.89        46\n",
      "                     ALIMENTO PRONTO       1.00      0.26      0.41        23\n",
      "                           APERITIVO       1.00      0.25      0.40         4\n",
      "                               ARROZ       0.96      1.00      0.98        44\n",
      "               ARTIGO PARA DECORACAO       0.00      0.00      0.00         2\n",
      "                           AVIAMENTO       1.00      0.38      0.55         8\n",
      "                           BIJUTERIA       0.00      0.00      0.00         2\n",
      "                            BISCOITO       0.92      0.97      0.94       105\n",
      "                          BOMBONIERE       0.89      0.92      0.91       146\n",
      "                                BOTA       0.83      0.83      0.83         6\n",
      "                           BRINQUEDO       0.00      0.00      0.00         7\n",
      "                              CABELO       0.87      0.99      0.92       414\n",
      "                                CAFE       1.00      0.98      0.99        43\n",
      "                             CAJUINA       0.00      0.00      0.00         1\n",
      "                   CAMA MESA E BANHO       0.00      0.00      0.00         5\n",
      "                        CARNE BOVINA       0.89      1.00      0.94        55\n",
      "                       CARNE DE AVE        0.85      0.93      0.89        30\n",
      "                      CARNE DE PEIXE       1.00      0.77      0.87        22\n",
      "                         CARNE OVINA       0.00      0.00      0.00         1\n",
      "                         CARNE SUINA       1.00      0.92      0.96        12\n",
      "                             CARTOES       0.00      0.00      0.00         1\n",
      "                             CELULAR       1.00      0.75      0.86         4\n",
      "                              CEREAL       0.92      0.83      0.87        29\n",
      "                             CERVEJA       0.98      0.99      0.99       105\n",
      "                              CEVADA       0.00      0.00      0.00         2\n",
      "                                 CHA       1.00      0.93      0.97        15\n",
      "                    CHAPA DE MADEIRA       0.00      0.00      0.00         1\n",
      "                             CHINELO       0.80      1.00      0.89        44\n",
      "                         COMBUSTIVEL       1.00      0.75      0.86        24\n",
      "                               CORPO       0.82      0.94      0.88       345\n",
      "                    DOCE E SOBREMESA       0.93      0.64      0.76        44\n",
      "                     ELETRODOMESTICO       1.00      0.97      0.98        29\n",
      "                          ELETRONICO       0.86      0.75      0.80         8\n",
      "                     ELETROPORTATEIS       0.93      0.87      0.90        31\n",
      "                          ENERGETICO       1.00      0.50      0.67         8\n",
      "              EQUIPAMENTO HOSPITALAR       0.00      0.00      0.00         2\n",
      "                          ESPECIARIA       1.00      0.56      0.72        16\n",
      "                           ESPUMANTE       1.00      0.85      0.92        13\n",
      "                              FARELO       0.00      0.00      0.00         2\n",
      "                     FARINHA E AMIDO       0.70      0.98      0.81        56\n",
      "                              FEIJAO       0.94      1.00      0.97        16\n",
      "                            FERRAGEM       1.00      0.71      0.83        31\n",
      "                             FOLHETO       0.00      0.00      0.00         1\n",
      "                    FORMAS DE TABACO       0.00      0.00      0.00         2\n",
      "                               FRUTA       0.86      0.90      0.88        89\n",
      "                            GENERICO       0.90      0.93      0.91       390\n",
      "                             GRANITO       0.00      0.00      0.00         4\n",
      "                         INFORMATICA       1.00      0.56      0.71         9\n",
      "            INSTRUMENTO DE PERCUSSAO       0.00      0.00      0.00         2\n",
      "                           ISOTONICO       1.00      0.33      0.50         6\n",
      "                          LACTICINIO       0.75      0.97      0.85       241\n",
      "                               LEITE       0.94      0.99      0.97       114\n",
      "                               LICOR       1.00      0.83      0.91         6\n",
      "                               LIVRO       0.97      0.75      0.85        40\n",
      "                            MACARRAO       0.98      0.98      0.98        44\n",
      "                                MAOS       0.00      0.00      0.00         1\n",
      "                           MAQUIAGEM       0.95      0.83      0.89        42\n",
      "               MAQUINA E EQUIPAMENTO       1.00      0.25      0.40         4\n",
      "                        MASSA PRONTA       0.00      0.00      0.00         4\n",
      "                   MATERIAL ELETRICO       0.88      0.73      0.80        71\n",
      "          MATERIAL PARA AGROPECUARIA       0.00      0.00      0.00         4\n",
      "            MATERIAL PARA ARTESANATO       1.00      0.83      0.91        12\n",
      "            MATERIAL PARA CONSTRUCAO       0.77      0.95      0.85       322\n",
      "  MATERIAL PARA ESCRITORIO E ESCOLAR       0.82      0.98      0.89       165\n",
      "        MEDICAMENTO NAO CLASSIFICADO       0.88      0.08      0.15        83\n",
      "                      MISTURA PRONTA       0.97      0.85      0.91        41\n",
      "                          MODA PRAIA       0.00      0.00      0.00         2\n",
      "                        ODONTOLOGICO       0.00      0.00      0.00         1\n",
      "                                OLEO       1.00      0.94      0.97        33\n",
      "                               OLHOS       0.00      0.00      0.00         5\n",
      "                 OUTROS MEDICAMENTOS       0.93      0.30      0.45        44\n",
      "                          OVO DE AVE       1.00      0.92      0.96        12\n",
      "                                 PAO       1.00      0.89      0.94        44\n",
      "                               PAPEL       1.00      0.68      0.81        19\n",
      "           PARTE E PECA PARA VEICULO       0.80      0.94      0.86        88\n",
      "                         PECA INTIMA       0.82      0.99      0.90        88\n",
      "                          PERFUMARIA       0.97      0.81      0.89        48\n",
      "                                 PES       0.00      0.00      0.00         6\n",
      "                 PREPARACAO DE CARNE       0.86      0.91      0.88        33\n",
      "                 PREPARACAO DE FRUTA       1.00      0.66      0.79        29\n",
      "              PRODUTO DE CONFEITARIA       1.00      0.28      0.43        18\n",
      "             PRODUTO DE FLORICULTURA       0.00      0.00      0.00         3\n",
      "                  PRODUTO DE HIGIENE       0.92      0.95      0.93       192\n",
      "                  PRODUTO DE LIMPEZA       0.85      0.99      0.91       358\n",
      "                 PRODUTO DESCARTAVEL       0.90      0.82      0.86        56\n",
      "                PRODUTO FARMACEUTICO       0.80      0.90      0.84       308\n",
      "                  PRODUTO HOSPITALAR       1.00      0.41      0.58        22\n",
      "                       PRODUTO OTICO       1.00      0.36      0.53        11\n",
      "                 PRODUTO PARA ANIMAL       1.00      0.08      0.14        39\n",
      "            PRODUTO PARA CONSERVACAO       1.00      0.50      0.67        22\n",
      "                  PRODUTO PARA FESTA       1.00      0.40      0.57         5\n",
      "              PRODUTO PARA SEGURANCA       0.00      0.00      0.00         4\n",
      "                  PRODUTO PARA SOLDA       0.00      0.00      0.00         3\n",
      "                     PRODUTO VEGETAL       0.00      0.00      0.00         1\n",
      "                    PROTEINA DE SOJA       0.00      0.00      0.00         1\n",
      "                          REFERENCIA       0.94      0.90      0.92       596\n",
      "                        REFRIGERANTE       0.94      0.99      0.97       195\n",
      "                             RELOGIO       0.00      0.00      0.00         1\n",
      "                               ROSTO       0.85      0.28      0.42        40\n",
      "                                 RUM       1.00      1.00      1.00         1\n",
      "                            SANDALIA       1.00      0.17      0.29        12\n",
      "                           SAPATILHA       1.00      0.20      0.33        10\n",
      "                              SAPATO       1.00      0.60      0.75        10\n",
      "                             SIMILAR       0.79      0.95      0.87       857\n",
      "                              SUCATA       0.00      0.00      0.00         1\n",
      "                                SUCO       0.95      0.99      0.97        87\n",
      "                       TELEFONE FIXO       1.00      0.38      0.55         8\n",
      "                             TEMPERO       0.99      0.91      0.95        98\n",
      "                               TENIS       0.75      1.00      0.86        27\n",
      "                   TINTA PARA TECIDO       1.00      0.50      0.67         4\n",
      "                  TIPO DE FERRAMENTA       0.98      0.87      0.92        69\n",
      "                     TIPO DE FOSFORO       1.00      0.33      0.50        12\n",
      "                        TIPO DE GRAO       1.00      0.32      0.48        22\n",
      "                     TIPO DE MADEIRA       1.00      0.50      0.67         6\n",
      "                      TIPO DE MOVEIS       1.00      0.79      0.88        33\n",
      "                   TIPO DE PESTICIDA       0.00      0.00      0.00         3\n",
      "                      TIPO DE PLANTA       0.00      0.00      0.00         2\n",
      "                     TIPO DE PRODUTO       0.75      0.55      0.63        22\n",
      "                     TIPO DE SEMENTE       0.00      0.00      0.00         3\n",
      "                      TIPO DE TABACO       0.00      0.00      0.00         3\n",
      "                      TIPO DE TECIDO       1.00      1.00      1.00         1\n",
      "                        TIPO DE VELA       1.00      1.00      1.00         1\n",
      "                       TIPO DE VIDRO       1.00      0.33      0.50         3\n",
      "                               UNHAS       0.98      0.88      0.93        52\n",
      "                UTENSILIO DE LIMPEZA       0.88      0.78      0.83        64\n",
      "                 UTENSILIO PARA BEBE       0.92      0.92      0.92        12\n",
      "                UTENSILIO PARA O LAR       0.86      0.73      0.79        82\n",
      "                   VEICULO TERRESTRE       0.00      0.00      0.00         5\n",
      "                    VERDURA E LEGUME       0.98      0.91      0.94        65\n",
      "                  VESTUARIO FEMININO       0.76      0.50      0.60        26\n",
      "                  VESTUARIO INFANTIL       0.00      0.00      0.00         3\n",
      "                 VESTUARIO MASCULINO       1.00      0.22      0.36         9\n",
      "                 VESTUARIO PARA BEBE       0.00      0.00      0.00         8\n",
      "                               VINHO       0.86      0.93      0.89        27\n",
      "                               VODKA       1.00      0.55      0.71        11\n",
      "                              WHISKY       1.00      0.83      0.91         6\n",
      "\n",
      "                         avg / total       0.87      0.87      0.85      7893\n",
      "\n"
     ]
    },
    {
     "name": "stderr",
     "output_type": "stream",
     "text": [
      "C:\\Users\\Newton\\Anaconda3\\envs\\TensorFlow\\lib\\site-packages\\sklearn\\metrics\\classification.py:1135: UndefinedMetricWarning: Precision and F-score are ill-defined and being set to 0.0 in labels with no predicted samples.\n",
      "  'precision', 'predicted', average, warn_for)\n"
     ]
    }
   ],
   "source": [
    "model = MultinomialNB()\n",
    "model.fit(X_train,y_train)\n",
    "y_pred = model.predict(X_test)\n",
    "print(classification_report(y_test,y_pred))"
   ]
  },
  {
   "cell_type": "code",
   "execution_count": 23,
   "metadata": {
    "collapsed": true
   },
   "outputs": [],
   "source": [
    "from sklearn import metrics"
   ]
  },
  {
   "cell_type": "code",
   "execution_count": 24,
   "metadata": {
    "collapsed": true
   },
   "outputs": [],
   "source": [
    "score = metrics.accuracy_score(y_pred=y_pred, y_true=y_test)"
   ]
  },
  {
   "cell_type": "code",
   "execution_count": 25,
   "metadata": {},
   "outputs": [
    {
     "name": "stdout",
     "output_type": "stream",
     "text": [
      "0.870518\n"
     ]
    }
   ],
   "source": [
    "print('{0:f}'.format(score))"
   ]
  },
  {
   "cell_type": "code",
   "execution_count": 26,
   "metadata": {},
   "outputs": [
    {
     "data": {
      "text/plain": [
       "array(['ACESSORIO DE INFORMATICA', 'UTENSILIO PARA BEBE', 'CARNE BOVINA',\n",
       "       'PRODUTO DE LIMPEZA'],\n",
       "      dtype='<U36')"
      ]
     },
     "execution_count": 26,
     "metadata": {},
     "output_type": "execute_result"
    }
   ],
   "source": [
    "teste_predict=['EPSON MAGENTO','LILLO BICO','BOV AMERICANA KG','KING 100ML JASMIM']\n",
    "teste_predict_vect = vectorizer_train.transform(teste_predict) \n",
    "model.predict(teste_predict_vect)"
   ]
  },
  {
   "cell_type": "code",
   "execution_count": 27,
   "metadata": {
    "collapsed": true
   },
   "outputs": [],
   "source": [
    "def prediction_script(text):\n",
    "    predict_vect = vectorizer_train.transform(text)\n",
    "    yield model.predict(teste_predict_vect)"
   ]
  },
  {
   "cell_type": "code",
   "execution_count": 28,
   "metadata": {},
   "outputs": [
    {
     "data": {
      "text/plain": [
       "[array(['ACESSORIO DE INFORMATICA', 'UTENSILIO PARA BEBE', 'CARNE BOVINA',\n",
       "        'PRODUTO DE LIMPEZA'],\n",
       "       dtype='<U36')]"
      ]
     },
     "execution_count": 28,
     "metadata": {},
     "output_type": "execute_result"
    }
   ],
   "source": [
    "list(prediction_script(['EPSON MAGENTO','LILLO BICO','BOV AMERICANA KG','KING 100ML JASMIM']))"
   ]
  },
  {
   "cell_type": "code",
   "execution_count": 29,
   "metadata": {
    "collapsed": true
   },
   "outputs": [],
   "source": [
    "filename = 'model_v1.pkl'"
   ]
  },
  {
   "cell_type": "code",
   "execution_count": 30,
   "metadata": {
    "collapsed": true
   },
   "outputs": [],
   "source": [
    "from sklearn.externals import joblib"
   ]
  },
  {
   "cell_type": "code",
   "execution_count": 31,
   "metadata": {
    "collapsed": true
   },
   "outputs": [],
   "source": [
    "with open(filename, 'wb') as file:\n",
    "\tjoblib.dump(model, file)"
   ]
  },
  {
   "cell_type": "code",
   "execution_count": 32,
   "metadata": {
    "collapsed": true
   },
   "outputs": [],
   "source": [
    "file.close()"
   ]
  },
  {
   "cell_type": "code",
   "execution_count": null,
   "metadata": {
    "collapsed": true
   },
   "outputs": [],
   "source": []
  }
 ],
 "metadata": {
  "anaconda-cloud": {},
  "kernelspec": {
   "display_name": "Python 3",
   "language": "python",
   "name": "python3"
  },
  "language_info": {
   "codemirror_mode": {
    "name": "ipython",
    "version": 3
   },
   "file_extension": ".py",
   "mimetype": "text/x-python",
   "name": "python",
   "nbconvert_exporter": "python",
   "pygments_lexer": "ipython3",
   "version": "3.5.4"
  }
 },
 "nbformat": 4,
 "nbformat_minor": 2
}
